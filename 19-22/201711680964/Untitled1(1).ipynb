{
 "cells": [
  {
   "cell_type": "code",
   "execution_count": 1,
   "metadata": {
    "collapsed": false
   },
   "outputs": [
    {
     "name": "stdout",
     "output_type": "stream",
     "text": [
      "3\n",
      "3\n"
     ]
    }
   ],
   "source": [
    "n=input()\n",
    "print(n)"
   ]
  },
  {
   "cell_type": "code",
   "execution_count": 4,
   "metadata": {
    "collapsed": false
   },
   "outputs": [
    {
     "name": "stdout",
     "output_type": "stream",
     "text": [
      "1\n",
      "101\n"
     ]
    }
   ],
   "source": [
    "n=input()\n",
    "n=int(n)    #将n从字符串转换成整型\n",
    "print(n+100)\n"
   ]
  },
  {
   "cell_type": "code",
   "execution_count": 5,
   "metadata": {
    "collapsed": false
   },
   "outputs": [
    {
     "name": "stdout",
     "output_type": "stream",
     "text": [
      "说中文\n"
     ]
    }
   ],
   "source": [
    "print(\"说中文\")"
   ]
  },
  {
   "cell_type": "code",
   "execution_count": 6,
   "metadata": {
    "collapsed": false
   },
   "outputs": [
    {
     "name": "stdout",
     "output_type": "stream",
     "text": [
      "i\n"
     ]
    }
   ],
   "source": [
    "print(\"i\")"
   ]
  },
  {
   "cell_type": "code",
   "execution_count": 10,
   "metadata": {
    "collapsed": false
   },
   "outputs": [
    {
     "name": "stdout",
     "output_type": "stream",
     "text": [
      "5050\n"
     ]
    }
   ],
   "source": [
    "n=0\n",
    "i=0\n",
    "while i<100:\n",
    "    \n",
    "    i=i+1\n",
    "    n=n+i\n",
    "print(n)"
   ]
  },
  {
   "cell_type": "code",
   "execution_count": 13,
   "metadata": {
    "collapsed": false
   },
   "outputs": [
    {
     "name": "stdout",
     "output_type": "stream",
     "text": [
      "True\n"
     ]
    }
   ],
   "source": [
    "flag=True\n",
    "print(flag)"
   ]
  },
  {
   "cell_type": "code",
   "execution_count": 15,
   "metadata": {
    "collapsed": false
   },
   "outputs": [
    {
     "name": "stdout",
     "output_type": "stream",
     "text": [
      "7\n"
     ]
    }
   ],
   "source": [
    "i=0\n",
    "while i<7:\n",
    "    i=i+1\n",
    "print(i)"
   ]
  },
  {
   "cell_type": "code",
   "execution_count": 25,
   "metadata": {
    "collapsed": false
   },
   "outputs": [
    {
     "name": "stdout",
     "output_type": "stream",
     "text": [
      "100\n",
      "5050\n"
     ]
    }
   ],
   "source": [
    "m=input()\n",
    "n=0\n",
    "i=0        #这可能也是注释\n",
    "'''\n",
    "这大概是注释\n",
    "'''\n",
    "while i<int(m):             \n",
    "    i=i+1\n",
    "    n=n+i\n",
    "print(n)"
   ]
  },
  {
   "cell_type": "code",
   "execution_count": 36,
   "metadata": {
    "collapsed": false
   },
   "outputs": [
    {
     "name": "stdout",
     "output_type": "stream",
     "text": [
      "1000000\n"
     ]
    }
   ],
   "source": [
    "i=100\n",
    "i**=3\n",
    "print(i)"
   ]
  },
  {
   "cell_type": "code",
   "execution_count": 1,
   "metadata": {
    "collapsed": false
   },
   "outputs": [
    {
     "name": "stdout",
     "output_type": "stream",
     "text": [
      "请输入你的姓名，以回车结束。eihei\n",
      "你好 eihei\n"
     ]
    }
   ],
   "source": [
    "name = input('请输入你的姓名，以回车结束。')\n",
    "print('你好', name)"
   ]
  },
  {
   "cell_type": "code",
   "execution_count": 2,
   "metadata": {
    "collapsed": false
   },
   "outputs": [
    {
     "name": "stdout",
     "output_type": "stream",
     "text": [
      "请输入一个正整数，以回车结束。2\n",
      "请输入一个正整数，以回车结束。3\n",
      "两个数的和是： 5\n"
     ]
    }
   ],
   "source": [
    "n = int(input('请输入一个正整数，以回车结束。'))\n",
    "m = int(input('请输入一个正整数，以回车结束。'))\n",
    "\n",
    "print('两个数的和是：', m+n)"
   ]
  },
  {
   "cell_type": "code",
   "execution_count": null,
   "metadata": {
    "collapsed": false
   },
   "outputs": [],
   "source": [
    "n=int(input(\"输入正整数\"))\n",
    "m=int(input(\"输入正整数\"))\n",
    "o=int(input(\"输入正整数\"))\n",
    "print(\"三个数的和是：\",m+n+o)"
   ]
  },
  {
   "cell_type": "code",
   "execution_count": 1,
   "metadata": {
    "collapsed": false
   },
   "outputs": [
    {
     "name": "stdout",
     "output_type": "stream",
     "text": [
      "输入正整数20\n",
      "输入正整数30\n",
      "输入正整数10\n",
      "三个数的和是： 60\n"
     ]
    }
   ],
   "source": [
    "p=int(input(\"输入正整数\"))\n",
    "q=int(input(\"输入正整数\"))\n",
    "o=int(input(\"输入正整数\"))\n",
    "print(\"三个数的和是：\",p+q+o)"
   ]
  },
  {
   "cell_type": "code",
   "execution_count": 4,
   "metadata": {
    "collapsed": false,
    "scrolled": true
   },
   "outputs": [
    {
     "name": "stdout",
     "output_type": "stream",
     "text": [
      "请输入整数，结束请输入10086:50\n",
      "请输入整数，结束请输入10086:60\n",
      "请输入整数，结束请输入10086:1\n",
      "请输入整数，结束请输入10086:2\n",
      "请输入整数，结束请输入10086:3\n",
      "请输入整数，结束请输入10086:10086\n",
      "最终的和是： 116\n"
     ]
    }
   ],
   "source": [
    "n=0\n",
    "k=10086\n",
    "a=0\n",
    "while a!=k:\n",
    "    a=int(input(\"请输入整数，结束请输入10086:\"))\n",
    "    n=n+a\n",
    "print(\"最终的和是：\",n-10086)"
   ]
  },
  {
   "cell_type": "code",
   "execution_count": null,
   "metadata": {
    "collapsed": true
   },
   "outputs": [],
   "source": []
  }
 ],
 "metadata": {
  "kernelspec": {
   "display_name": "Python 3",
   "language": "python",
   "name": "python3"
  },
  "language_info": {
   "codemirror_mode": {
    "name": "ipython",
    "version": 3
   },
   "file_extension": ".py",
   "mimetype": "text/x-python",
   "name": "python",
   "nbconvert_exporter": "python",
   "pygments_lexer": "ipython3",
   "version": "3.6.0"
  }
 },
 "nbformat": 4,
 "nbformat_minor": 2
}
