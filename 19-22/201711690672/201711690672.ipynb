{
 "cells": [
  {
   "cell_type": "code",
   "execution_count": 1,
   "metadata": {},
   "outputs": [
    {
     "name": "stdout",
     "output_type": "stream",
     "text": [
      "请输入一个数字：5\n",
      "5 的阶乘为120\n"
     ]
    }
   ],
   "source": [
    "num=int(input(\"请输入一个数字：\"))\n",
    "factorial=1\n",
    "if num<0:\n",
    "    print(\"抱歉，负数没有阶乘\")\n",
    "elif num == 1:\n",
    "    print(\"0的阶乘为1\")\n",
    "else:\n",
    "    for i in range(1,num+1):\n",
    "        factorial = factorial*i\n",
    "    \n",
    "    print(\"%d 的阶乘为%d\"%(num,factorial))"
   ]
  },
  {
   "cell_type": "code",
   "execution_count": 3,
   "metadata": {},
   "outputs": [
    {
     "name": "stdout",
     "output_type": "stream",
     "text": [
      "5050\n"
     ]
    }
   ],
   "source": [
    "n=100\n",
    "i=0\n",
    "total=0\n",
    "while i<n:\n",
    "    i=i+1\n",
    "    total=total+i\n",
    "print(total)  "
   ]
  },
  {
   "cell_type": "code",
   "execution_count": 1,
   "metadata": {},
   "outputs": [
    {
     "name": "stdout",
     "output_type": "stream",
     "text": [
      "请输入你的姓名，以回车结束。王雯\n",
      "你好 王雯\n",
      "请输入一个正整数，以回车结束。5\n",
      "请输入一个正整数，以回车结束。5\n",
      "两个数的和是： 10\n",
      "再见！ 王雯\n"
     ]
    }
   ],
   "source": [
    "name = input('请输入你的姓名，以回车结束。')\n",
    "print('你好', name)\n",
    "\n",
    "n = int(input('请输入一个正整数，以回车结束。'))\n",
    "m = int(input('请输入一个正整数，以回车结束。'))\n",
    "\n",
    "print('两个数的和是：', m+n)\n",
    "print('再见！', name)"
   ]
  },
  {
   "cell_type": "code",
   "execution_count": 2,
   "metadata": {},
   "outputs": [
    {
     "name": "stdout",
     "output_type": "stream",
     "text": [
      "请输入任意多个数字123456\n",
      "如果不想继续输入数字，请在此框输入任意一个负数-1\n",
      "done\n"
     ]
    }
   ],
   "source": [
    "i=1\n",
    "while i>0:\n",
    "    n=int(input(\"请输入任意多个数字\"))\n",
    "        \n",
    "    i=int(input(\"如果不想继续输入数字，请在此框输入任意一个负数\"))\n",
    "print (\"done\")"
   ]
  },
  {
   "cell_type": "code",
   "execution_count": 4,
   "metadata": {},
   "outputs": [
    {
     "name": "stdout",
     "output_type": "stream",
     "text": [
      "输入数字10\n",
      "输入数字50\n",
      "输入数字60\n",
      "60\n",
      "输入数字10\n",
      "输入数字50\n",
      "输入数字61\n",
      "done\n"
     ]
    }
   ],
   "source": [
    "N=0\n",
    "X=1\n",
    "i=0\n",
    "while i<1:\n",
    "    a=int(input(\"输入数字\"))\n",
    "    N=N+a\n",
    "    X=X*a\n",
    "    b=int(input(\"输入数字\"))\n",
    "    N=N+b\n",
    "    X=X*b\n",
    "    n=int(input(\"输入数字\"))\n",
    "    if (N>=n and X<=500):\n",
    "        i=0\n",
    "        print(n)\n",
    "    else:\n",
    "        i=2\n",
    "        print(\"done\")"
   ]
  }
 ],
 "metadata": {
  "kernelspec": {
   "display_name": "Python 3",
   "language": "python",
   "name": "python3"
  },
  "language_info": {
   "codemirror_mode": {
    "name": "ipython",
    "version": 3
   },
   "file_extension": ".py",
   "mimetype": "text/x-python",
   "name": "python",
   "nbconvert_exporter": "python",
   "pygments_lexer": "ipython3",
   "version": "3.6.3"
  }
 },
 "nbformat": 4,
 "nbformat_minor": 2
}
