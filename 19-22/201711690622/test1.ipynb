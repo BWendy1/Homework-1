{
 "cells": [
  {
   "cell_type": "code",
   "execution_count": 1,
   "metadata": {
    "collapsed": false
   },
   "outputs": [
    {
     "name": "stdout",
     "output_type": "stream",
     "text": [
      "请输入要输入的整数个数，回车结束。3\n",
      "请输入一个整数，回车结束1\n",
      "请输入一个整数，回车结束2\n",
      "请输入一个整数，回车结束3\n",
      "最大值是： 3\n",
      "最小值是： 1\n",
      "平均值是： 2.0\n"
     ]
    }
   ],
   "source": [
    "# 求最大值、最小值与均值\n",
    " \n",
    "m = int(input('请输入要输入的整数个数，回车结束。'))\n",
    "\n",
    "max_number = int(input('请输入一个整数，回车结束'))\n",
    "min_number = max_number\n",
    "\n",
    "total = max_number\n",
    "\n",
    "i = 1\n",
    "while i < m:\n",
    "    i += 1\n",
    "    n = int(input('请输入一个整数，回车结束'))\n",
    "    total += n\n",
    "    if n > max_number:\n",
    "        max_number = n\n",
    "    elif n < min_number:\n",
    "        min_number = n\n",
    "        \n",
    "print('最大值是：', max_number)\n",
    "print('最小值是：', min_number)\n",
    "print('平均值是：', total/m)"
   ]
  },
  {
   "cell_type": "code",
   "execution_count": null,
   "metadata": {
    "collapsed": true
   },
   "outputs": [],
   "source": [
    "m=int(input(\"请输入要输入的整数个数，回车结束\"))\n",
    "\n"
   ]
  },
  {
   "cell_type": "code",
   "execution_count": 2,
   "metadata": {
    "collapsed": false
   },
   "outputs": [
    {
     "name": "stdout",
     "output_type": "stream",
     "text": [
      "请输入一个整数，回车结束1\n",
      "请输入一个整数，回车结束2\n",
      "请输入一个整数，回车结束3\n",
      "请输入一个整数，回车结束4\n",
      "1.0\n",
      "最大值是： 4\n"
     ]
    }
   ],
   "source": [
    "max_number = int(input('请输入一个整数，回车结束'))\n",
    "\n",
    "i = 0\n",
    "while i < 3:\n",
    "    i += 1\n",
    "    n = int(input('请输入一个整数，回车结束'))\n",
    "    if n > max_number:\n",
    "        max_number = n\n",
    "    total=0\n",
    "    total+=n\n",
    "    P=total/4\n",
    "print(P)\n",
    "print('最大值是：', max_number)"
   ]
  },
  {
   "cell_type": "code",
   "execution_count": null,
   "metadata": {
    "collapsed": true
   },
   "outputs": [],
   "source": []
  }
 ],
 "metadata": {
  "kernelspec": {
   "display_name": "Python 3",
   "language": "python",
   "name": "python3"
  },
  "language_info": {
   "codemirror_mode": {
    "name": "ipython",
    "version": 3
   },
   "file_extension": ".py",
   "mimetype": "text/x-python",
   "name": "python",
   "nbconvert_exporter": "python",
   "pygments_lexer": "ipython3",
   "version": "3.6.0"
  }
 },
 "nbformat": 4,
 "nbformat_minor": 2
}
