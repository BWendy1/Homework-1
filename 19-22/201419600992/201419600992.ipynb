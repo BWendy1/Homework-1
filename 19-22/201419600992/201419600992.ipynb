{
 "cells": [
  {
   "cell_type": "code",
   "execution_count": 1,
   "metadata": {
    "collapsed": true
   },
   "outputs": [],
   "source": [
    "#练习1：仿照任务2完整代码，打印n!。"
   ]
  },
  {
   "cell_type": "code",
   "execution_count": 2,
   "metadata": {},
   "outputs": [
    {
     "name": "stdout",
     "output_type": "stream",
     "text": [
      "5\n",
      "120\n"
     ]
    }
   ],
   "source": [
    "i=0\n",
    "n=input()\n",
    "n=int(n)\n",
    "total=1\n",
    "while i<n:\n",
    "\ti=i+1\n",
    "\ttotal=total*i\n",
    "print(total)"
   ]
  },
  {
   "cell_type": "code",
   "execution_count": null,
   "metadata": {
    "collapsed": true
   },
   "outputs": [],
   "source": [
    "#练习2：仿照实践1，写出由用户指定整数个数，并由用户输入多个整数，并求和的代码。"
   ]
  },
  {
   "cell_type": "code",
   "execution_count": 3,
   "metadata": {},
   "outputs": [
    {
     "name": "stdout",
     "output_type": "stream",
     "text": [
      "Please enter your user name: olly\n",
      "Hello olly\n",
      "Please enter the number of integers: 10\n",
      "Please enter the number you want to add: 1\n",
      "Please enter the number you want to add: 2\n",
      "Please enter the number you want to add: 3\n",
      "Please enter the number you want to add: 4\n",
      "Please enter the number you want to add: 5\n",
      "Please enter the number you want to add: 6\n",
      "Please enter the number you want to add: 7\n",
      "Please enter the number you want to add: 8\n",
      "Please enter the number you want to add: 9\n",
      "Please enter the number you want to add: 10\n",
      "The sum of these numbers is:  55\n"
     ]
    }
   ],
   "source": [
    "uname=input('Please enter your user name: ')\n",
    "print('Hello', uname)\n",
    "\n",
    "n=int(input('Please enter the number of integers: '))\n",
    "\n",
    "i=0\n",
    "total=0\n",
    "while i<n:\n",
    "\tni=int(input('Please enter the number you want to add: '))\n",
    "\ttotal=total+ni\n",
    "\ti=i+1\n",
    "print('The sum of these numbers is: ', total)\n"
   ]
  },
  {
   "cell_type": "code",
   "execution_count": null,
   "metadata": {
    "collapsed": true
   },
   "outputs": [],
   "source": [
    "#练习3：用户可以输入的任意多个数字，直到用户不想输入为止。"
   ]
  },
  {
   "cell_type": "code",
   "execution_count": 7,
   "metadata": {},
   "outputs": [
    {
     "name": "stdout",
     "output_type": "stream",
     "text": [
      "If you want to continue to input, do not enter q, otherwise enter q: 1\n",
      "0\n",
      "2\n",
      "53\n",
      "673486\n",
      "q\n",
      "END\n"
     ]
    }
   ],
   "source": [
    "stat=input('If you want to continue to input, do not enter q, otherwise enter q: ')\n",
    "\n",
    "while stat!='q':\n",
    "\tstat=input()\n",
    "print('END')\n",
    "\n"
   ]
  },
  {
   "cell_type": "code",
   "execution_count": null,
   "metadata": {
    "collapsed": true
   },
   "outputs": [],
   "source": [
    "#练习4：用户可以输入的任意多个数字，直到输入所有数字的和比当前输入数字小，且输入所有数字的积比当前输入数字的平方大。"
   ]
  },
  {
   "cell_type": "code",
   "execution_count": 8,
   "metadata": {},
   "outputs": [
    {
     "name": "stdout",
     "output_type": "stream",
     "text": [
      "Please input an integer: 1\n",
      "input is:  1\n",
      "total is:  1\n",
      "product of all inputs is:  1\n",
      "square of current input is:  1\n",
      "Please input an integer: 2\n",
      "input is:  2\n",
      "total is:  3\n",
      "product of all inputs is:  2\n",
      "square of current input is:  4\n",
      "Please input an integer: 4\n",
      "input is:  4\n",
      "total is:  7\n",
      "product of all inputs is:  8\n",
      "square of current input is:  16\n",
      "Please input an integer: 10\n",
      "input is:  10\n",
      "total is:  17\n",
      "product of all inputs is:  80\n",
      "square of current input is:  100\n",
      "Please input an integer: 18\n",
      "input is:  18\n",
      "total is:  35\n",
      "product of all inputs is:  1440\n",
      "square of current input is:  324\n",
      "Please input an integer: 36\n",
      "input is:  36\n",
      "END\n"
     ]
    }
   ],
   "source": [
    "n=0\n",
    "total=0\n",
    "product=0\n",
    "stat=True\n",
    "\n",
    "while True:\n",
    "\tif product==0:\n",
    "\t\tproduct=1\n",
    "\tn=int(input('Please input an integer: '))\n",
    "\tprint('input is: ',n)\n",
    "\tsn=n*n\n",
    "\tif total<n and product>sn:\n",
    "\t\tstat=False\n",
    "\t\tbreak\n",
    "\t\n",
    "\ttotal=total+n\n",
    "\tproduct=product*n\n",
    "\t\n",
    "\tprint('total is: ',total)\n",
    "\tprint('product of all inputs is: ',product)\n",
    "\tprint('square of current input is: ',sn)\n",
    "\t\n",
    "\n",
    "print('END')"
   ]
  },
  {
   "cell_type": "code",
   "execution_count": null,
   "metadata": {
    "collapsed": true
   },
   "outputs": [],
   "source": []
  }
 ],
 "metadata": {
  "kernelspec": {
   "display_name": "Python 3",
   "language": "python",
   "name": "python3"
  },
  "language_info": {
   "codemirror_mode": {
    "name": "ipython",
    "version": 3
   },
   "file_extension": ".py",
   "mimetype": "text/x-python",
   "name": "python",
   "nbconvert_exporter": "python",
   "pygments_lexer": "ipython3",
   "version": "3.6.2"
  }
 },
 "nbformat": 4,
 "nbformat_minor": 2
}
