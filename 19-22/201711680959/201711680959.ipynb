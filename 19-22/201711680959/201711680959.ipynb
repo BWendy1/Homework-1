{
 "cells": [
  {
   "cell_type": "code",
   "execution_count": 2,
   "metadata": {},
   "outputs": [
    {
     "name": "stdout",
     "output_type": "stream",
     "text": [
      "please input a number:8\n",
      "1\n",
      "2\n",
      "6\n",
      "24\n",
      "120\n",
      "720\n",
      "5040\n",
      "40320\n"
     ]
    }
   ],
   "source": [
    "#练习1：仿照任务2完整代码，打印n!。\n",
    "n=int(input('please input a number:'))\n",
    "i=0\n",
    "total=1\n",
    "while i<n:\n",
    "    i=i+1\n",
    "    total=total*i\n",
    "    print(total)"
   ]
  },
  {
   "cell_type": "code",
   "execution_count": 7,
   "metadata": {},
   "outputs": [
    {
     "name": "stdout",
     "output_type": "stream",
     "text": [
      "请输入一个整数:4\n",
      "1\n",
      "1\n",
      "3\n",
      "4\n",
      "您所输的数字之和为: 9\n"
     ]
    }
   ],
   "source": [
    "#练习2：仿照实践1，写出由用户指定整数个数，并由用户输入多个整数，并求和的代码。\n",
    "n=input('请输入一个整数:')\n",
    "n=int(n)\n",
    "i=0\n",
    "s=0\n",
    "while i<n:\n",
    "    i=i+1\n",
    "    m=input()\n",
    "    s=int(m)+s\n",
    "print('您所输的数字之和为:',s)\n",
    "\n",
    "    "
   ]
  },
  {
   "cell_type": "code",
   "execution_count": 1,
   "metadata": {},
   "outputs": [
    {
     "name": "stdout",
     "output_type": "stream",
     "text": [
      "please input numbers until you do not like to.if you want to stop,please input the \"end\":4\n",
      "3\n",
      "4\n",
      "5\n",
      "6\n",
      "end\n"
     ]
    }
   ],
   "source": [
    "#练习3：用户可以输入的任意多个数字，直到用户不想输入为止。\n",
    "n=input('please input numbers until you do not like to.if you want to stop,please input the \"end\":')\n",
    "a=str(\"end\")\n",
    "m=input()\n",
    "while m!=a:\n",
    "    m=input()\n",
    "    \n"
   ]
  },
  {
   "cell_type": "code",
   "execution_count": 2,
   "metadata": {},
   "outputs": [
    {
     "name": "stdout",
     "output_type": "stream",
     "text": [
      "30\n",
      "20\n",
      "-80\n",
      "-2\n"
     ]
    }
   ],
   "source": [
    "#练习4：用户可以输入的任意多个数字，直到: 输入所有数字的和比当前输入数字小，且输入所有数字的积大于500。\n",
    "m=input()\n",
    "s=0\n",
    "y=1\n",
    "s=s+int(m)\n",
    "y=y*int(m)\n",
    "while y<=500 or s>=int(m):\n",
    "    m=input() \n",
    "    s=int(m)+s\n",
    "    y=y*int(m)\n",
    "   \n",
    "     \n"
   ]
  }
 ],
 "metadata": {
  "kernelspec": {
   "display_name": "Python 3",
   "language": "python",
   "name": "python3"
  },
  "language_info": {
   "codemirror_mode": {
    "name": "ipython",
    "version": 3
   },
   "file_extension": ".py",
   "mimetype": "text/x-python",
   "name": "python",
   "nbconvert_exporter": "python",
   "pygments_lexer": "ipython3",
   "version": "3.6.2"
  }
 },
 "nbformat": 4,
 "nbformat_minor": 2
}
